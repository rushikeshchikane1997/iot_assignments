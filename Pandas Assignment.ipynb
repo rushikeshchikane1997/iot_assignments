{
 "cells": [
  {
   "cell_type": "markdown",
   "id": "5c6da570-a92f-4146-9f4a-66d41455064c",
   "metadata": {},
   "source": [
    "# PANDAS ASSIGNMENT"
   ]
  },
  {
   "cell_type": "code",
   "execution_count": 28,
   "id": "69f6ac3d-e181-462d-815f-20f4da81d572",
   "metadata": {},
   "outputs": [],
   "source": [
    "import pandas as pd\n",
    "import numpy as np"
   ]
  },
  {
   "cell_type": "code",
   "execution_count": 29,
   "id": "ae5a8ddd-299a-44b9-b0e2-db55ce2e51d5",
   "metadata": {},
   "outputs": [],
   "source": [
    "#1.Create and display a one-dimensional array-like object containing an array of data."
   ]
  },
  {
   "cell_type": "code",
   "execution_count": 30,
   "id": "9904c57a-f844-4184-af03-f27e715d292e",
   "metadata": {},
   "outputs": [
    {
     "name": "stdout",
     "output_type": "stream",
     "text": [
      "0    11\n",
      "1    22\n",
      "2    33\n",
      "3    44\n",
      "4    55\n",
      "5    66\n",
      "6    77\n",
      "dtype: int64\n"
     ]
    }
   ],
   "source": [
    "data = pd.Series([11,22,33,44,55,66,77])\n",
    "print(data)"
   ]
  },
  {
   "cell_type": "code",
   "execution_count": 31,
   "id": "beaaea11-02cf-4d5c-85c4-6bbc61f0cdb8",
   "metadata": {},
   "outputs": [],
   "source": [
    "#2.Convert a Panda module Series to Python list and it’s type."
   ]
  },
  {
   "cell_type": "code",
   "execution_count": 32,
   "id": "4045ba97-9bd2-4e7b-91aa-ee0e557fa7bc",
   "metadata": {},
   "outputs": [
    {
     "name": "stdout",
     "output_type": "stream",
     "text": [
      "0    11\n",
      "1    22\n",
      "2    33\n",
      "3    44\n",
      "4    55\n",
      "5    66\n",
      "6    77\n",
      "dtype: int64\n",
      "Type of l1 = <class 'pandas.core.series.Series'>\n",
      "\n",
      "[11, 22, 33, 44, 55, 66, 77]\n",
      "Type of l1 = <class 'list'>\n"
     ]
    }
   ],
   "source": [
    "data = pd.Series([11,22,33,44,55,66,77])\n",
    "l1 = data.tolist()\n",
    "print(data)\n",
    "print(f\"Type of l1 = {type(data)}\\n\")\n",
    "print(l1)\n",
    "print(f\"Type of l1 = {type(l1)}\")\n"
   ]
  },
  {
   "cell_type": "code",
   "execution_count": 33,
   "id": "452db16e-f264-4d52-96b5-df8c907d1d86",
   "metadata": {},
   "outputs": [],
   "source": [
    "#3.Add, subtract, multiple and divide two Pandas Series."
   ]
  },
  {
   "cell_type": "code",
   "execution_count": 34,
   "id": "d535d11c-f706-4807-85f3-a44defb5ae36",
   "metadata": {},
   "outputs": [
    {
     "name": "stdout",
     "output_type": "stream",
     "text": [
      "Addition of two series is : \n",
      "0     3\n",
      "1     7\n",
      "2    11\n",
      "3    15\n",
      "4    19\n",
      "dtype: int64\n",
      "\n",
      "Substraction of two series is : \n",
      "0    1\n",
      "1    1\n",
      "2    1\n",
      "3    1\n",
      "4    1\n",
      "dtype: int64\n",
      "\n",
      "Multiplication of two series is : \n",
      "0     2\n",
      "1    12\n",
      "2    30\n",
      "3    56\n",
      "4    90\n",
      "dtype: int64\n",
      "\n",
      "Division of two series is : \n",
      "0    2.000000\n",
      "1    1.333333\n",
      "2    1.200000\n",
      "3    1.142857\n",
      "4    1.111111\n",
      "dtype: float64\n",
      "\n"
     ]
    }
   ],
   "source": [
    "data1 = pd.Series([2,4,6,8,10])\n",
    "data2 = pd.Series([1,3,5,7,9])\n",
    "print(f\"Addition of two series is : \\n{data1+data2}\\n\")\n",
    "print(f\"Substraction of two series is : \\n{data1-data2}\\n\")\n",
    "print(f\"Multiplication of two series is : \\n{data1*data2}\\n\")\n",
    "print(f\"Division of two series is : \\n{data1/data2}\\n\")"
   ]
  },
  {
   "cell_type": "code",
   "execution_count": 35,
   "id": "9f16be6f-e5b9-4aa8-b3f9-48f8bfd1888b",
   "metadata": {},
   "outputs": [],
   "source": [
    "#4.Convert a dictionary to a Pandas series."
   ]
  },
  {
   "cell_type": "code",
   "execution_count": 36,
   "id": "d2f29db4-62e6-4e6d-8a9c-7cfb7fce136d",
   "metadata": {},
   "outputs": [
    {
     "name": "stdout",
     "output_type": "stream",
     "text": [
      "{'a': 100, 'b': 200, 'c': 300, 'd': 400, 'e': 800}\n",
      "Type of Dictionary = <class 'dict'>\n",
      "\n",
      "a    100\n",
      "b    200\n",
      "c    300\n",
      "d    400\n",
      "e    800\n",
      "dtype: int64\n",
      "Type of series = <class 'pandas.core.series.Series'>\n"
     ]
    }
   ],
   "source": [
    "dict1 = {'a': 100, 'b': 200, 'c': 300, 'd': 400, 'e': 800}\n",
    "print(dict1)\n",
    "print(f\"Type of Dictionary = {type(dict1)}\\n\")\n",
    "series = pd.Series(dict1)\n",
    "print(series)\n",
    "print(f\"Type of series = {type(series)}\")"
   ]
  },
  {
   "cell_type": "code",
   "execution_count": 41,
   "id": "a94c9f97-fcf2-4f3c-a723-92b055462079",
   "metadata": {},
   "outputs": [],
   "source": [
    "#5.Convert a NumPy array to a Pandas series."
   ]
  },
  {
   "cell_type": "code",
   "execution_count": 42,
   "id": "dba9872c-9231-4024-b8fc-a8631c4adc5e",
   "metadata": {},
   "outputs": [
    {
     "name": "stdout",
     "output_type": "stream",
     "text": [
      "[10 20 30 40 50]\n",
      "Type of numpy array = <class 'numpy.ndarray'>\n",
      "\n",
      "0    10\n",
      "1    20\n",
      "2    30\n",
      "3    40\n",
      "4    50\n",
      "dtype: int64\n",
      "Type of series = <class 'pandas.core.series.Series'>\n"
     ]
    }
   ],
   "source": [
    "numpy_arr = np.array([10, 20, 30, 40, 50])\n",
    "print(numpy_arr)\n",
    "print(f\"Type of numpy array = {type(numpy_arr)}\\n\")\n",
    "series = pd.Series(numpy_arr)\n",
    "print(series)\n",
    "print(f\"Type of series = {type(series)}\")"
   ]
  },
  {
   "cell_type": "code",
   "execution_count": 43,
   "id": "e8ed4a3c-7531-4401-baf9-41d22184a55d",
   "metadata": {},
   "outputs": [],
   "source": [
    "#6.Change the data type of given a column or a Series."
   ]
  },
  {
   "cell_type": "code",
   "execution_count": 44,
   "id": "c63d24e2-a9b7-4352-944f-abc9eae5a9a4",
   "metadata": {},
   "outputs": [
    {
     "name": "stdout",
     "output_type": "stream",
     "text": [
      "Original data types:\n",
      "Name      object\n",
      "Age        int64\n",
      "Salary     int64\n",
      "dtype: object\n",
      "\n",
      "Updated data types:\n",
      "Name       object\n",
      "Age       float64\n",
      "Salary      int64\n",
      "dtype: object\n"
     ]
    }
   ],
   "source": [
    "data = {'Name': ['Alice', 'Bob', 'Charlie', 'David', 'Emily'],\n",
    "        'Age': [25, 30, 35, 40, 45],\n",
    "        'Salary': [50000, 60000, 70000, 80000, 90000]}\n",
    "\n",
    "df = pd.DataFrame(data)\n",
    "print(\"Original data types:\")\n",
    "print(df.dtypes)\n",
    "df['Age'] = df['Age'].astype('float64')\n",
    "df['Salary'] = df['Salary'].astype('int64')\n",
    "print(\"\\nUpdated data types:\")\n",
    "print(df.dtypes)"
   ]
  },
  {
   "cell_type": "code",
   "execution_count": 45,
   "id": "ea981c2f-10f1-4cba-825b-e697648908f6",
   "metadata": {},
   "outputs": [],
   "source": [
    "#7.Convert a given Series to an array."
   ]
  },
  {
   "cell_type": "code",
   "execution_count": 46,
   "id": "d0eb88ff-d2b2-408b-89b8-17a323d35cbc",
   "metadata": {},
   "outputs": [
    {
     "name": "stdout",
     "output_type": "stream",
     "text": [
      "Pandas Series:\n",
      "0    1\n",
      "1    2\n",
      "2    3\n",
      "3    4\n",
      "4    5\n",
      "dtype: int64\n",
      "\n",
      "NumPy Array:\n",
      "[1 2 3 4 5]\n",
      "\n",
      "Type of array: <class 'numpy.ndarray'>\n"
     ]
    }
   ],
   "source": [
    "series = pd.Series([1, 2, 3, 4, 5])\n",
    "array = series.to_numpy()\n",
    "\n",
    "print(\"Pandas Series:\")\n",
    "print(series)\n",
    "print(\"\\nNumPy Array:\")\n",
    "print(array)\n",
    "print(\"\\nType of array:\", type(array))"
   ]
  },
  {
   "cell_type": "code",
   "execution_count": 47,
   "id": "3ec39064-c2cb-40e8-9a44-e6579ff52e5b",
   "metadata": {},
   "outputs": [],
   "source": [
    "#8.Create a dataframe from a dictionary and display it."
   ]
  },
  {
   "cell_type": "code",
   "execution_count": 48,
   "id": "a7121a16-804a-48ee-bd66-5406620be367",
   "metadata": {},
   "outputs": [
    {
     "name": "stdout",
     "output_type": "stream",
     "text": [
      "        Name  Age  Salary\n",
      "0      Ramya   25   80000\n",
      "1     Aabhay   23   60000\n",
      "2      Harsh   25   70000\n",
      "3   Mayuresh   25   80000\n",
      "4    Saurabh   23   55000\n",
      "5  Sudarshan   24   65000\n"
     ]
    }
   ],
   "source": [
    "data = {\n",
    "    'Name': ['Ramya', 'Aabhay', 'Harsh', 'Mayuresh', 'Saurabh', 'Sudarshan'],\n",
    "    'Age': [25, 23, 25, 25, 23, 24],\n",
    "    'Salary': [80000, 60000, 70000, 80000, 55000, 65000]\n",
    "}\n",
    "df = pd.DataFrame(data)\n",
    "print(df)"
   ]
  },
  {
   "cell_type": "code",
   "execution_count": 58,
   "id": "d1a3b89e-8a7a-49bf-a865-545711c16f20",
   "metadata": {},
   "outputs": [
    {
     "name": "stdout",
     "output_type": "stream",
     "text": [
      "701       Abhay\n",
      "702      Pranav\n",
      "703       Omkar\n",
      "704     Sandesh\n",
      "705    Mayuresh\n",
      "706      Rutuja\n",
      "707      Ankita\n",
      "708      Muskan\n",
      "709      Aniket\n",
      "710    Jitendra\n",
      "dtype: object\n",
      "\n",
      "Type of Series: <class 'pandas.core.series.Series'>\n",
      "\n",
      "\n",
      "         Name\n",
      "701     Abhay\n",
      "702    Pranav\n",
      "703     Omkar\n",
      "704   Sandesh\n",
      "705  Mayuresh\n",
      "706    Rutuja\n",
      "707    Ankita\n",
      "708    Muskan\n",
      "709    Aniket\n",
      "710  Jitendra\n",
      "\n",
      "\n",
      "         Name\n",
      "701     Abhay\n",
      "702    Pranav\n",
      "703     Omkar\n",
      "704   Sandesh\n",
      "705  Mayuresh\n",
      "\n",
      "\n",
      "         Name\n",
      "706    Rutuja\n",
      "707    Ankita\n",
      "708    Muskan\n",
      "709    Aniket\n",
      "710  Jitendra\n",
      "\n",
      "\n",
      "       Name\n",
      "701   Abhay\n",
      "702  Pranav\n",
      "\n",
      "\n",
      "         Name\n",
      "709    Aniket\n",
      "710  Jitendra\n",
      "\n",
      "\n",
      "Mayuresh\n",
      "\n",
      "\n",
      "Name    Sandesh\n",
      "Name: 704, dtype: object\n",
      "\n",
      "\n"
     ]
    }
   ],
   "source": [
    "empids = [701, 702, 703, 704, 705, 706, 707, 708, 709, 710]\n",
    "names = ['Abhay', 'Pranav', 'Omkar', 'Sandesh', 'Mayuresh', 'Rutuja', 'Ankita', 'Muskan', 'Aniket', 'Jitendra']\n",
    "emp_series = pd.Series(names, index=empids)\n",
    "print(emp_series)\n",
    "\n",
    "print(\"\\nType of Series:\", type(emp_series))\n",
    "print('\\n')\n",
    "\n",
    "emp_df = pd.DataFrame({'Name': emp_series})\n",
    "print(emp_df)\n",
    "print('\\n')\n",
    "\n",
    "print(emp_df.head())\n",
    "print('\\n')\n",
    "\n",
    "print(emp_df.tail())\n",
    "print('\\n')\n",
    "\n",
    "print(emp_df.head(2))\n",
    "print('\\n')\n",
    "\n",
    "print(emp_df.tail(2))\n",
    "print('\\n')\n",
    "\n",
    "print(emp_df.iloc[4]['Name'])\n",
    "print('\\n')\n",
    "\n",
    "print(emp_df.loc[704])\n",
    "print('\\n')\n",
    "\n",
    "emp_df.to_csv('MyRecord.csv', index=False)"
   ]
  },
  {
   "cell_type": "code",
   "execution_count": 60,
   "id": "145e3adf-d09f-4b39-ad45-bcfbe803ab5f",
   "metadata": {},
   "outputs": [
    {
     "name": "stdout",
     "output_type": "stream",
     "text": [
      "       Name  Salary\n",
      "0     Abhay   50000\n",
      "1    Pranav   55000\n",
      "2     Omkar   60000\n",
      "3   Sandesh   65000\n",
      "4  Mayuresh   70000\n",
      "5    Rutuja   75000\n",
      "6    Ankita   80000\n",
      "7    Muskan   85000\n",
      "8    Aniket   90000\n",
      "9  Jitendra   95000\n"
     ]
    }
   ],
   "source": [
    "emp1_df = pd.read_csv('MyRecord.csv')\n",
    "emp1_df['Salary'] = [50000, 55000, 60000, 65000, 70000, 75000, 80000, 85000, 90000, 95000]\n",
    "print(emp1_df)"
   ]
  },
  {
   "cell_type": "code",
   "execution_count": null,
   "id": "b2e566ba-856b-4da5-9a7a-af8fe871a969",
   "metadata": {},
   "outputs": [],
   "source": []
  }
 ],
 "metadata": {
  "kernelspec": {
   "display_name": "Python 3 (ipykernel)",
   "language": "python",
   "name": "python3"
  },
  "language_info": {
   "codemirror_mode": {
    "name": "ipython",
    "version": 3
   },
   "file_extension": ".py",
   "mimetype": "text/x-python",
   "name": "python",
   "nbconvert_exporter": "python",
   "pygments_lexer": "ipython3",
   "version": "3.10.12"
  }
 },
 "nbformat": 4,
 "nbformat_minor": 5
}
