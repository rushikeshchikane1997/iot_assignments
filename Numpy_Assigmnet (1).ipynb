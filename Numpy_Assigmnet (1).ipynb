{
 "cells": [
  {
   "cell_type": "markdown",
   "id": "5c6da570-a92f-4146-9f4a-66d41455064c",
   "metadata": {},
   "source": [
    "# NUMPY ASSSIGNMENT"
   ]
  },
  {
   "cell_type": "code",
   "execution_count": 146,
   "id": "69f6ac3d-e181-462d-815f-20f4da81d572",
   "metadata": {},
   "outputs": [],
   "source": [
    "import numpy as np"
   ]
  },
  {
   "cell_type": "code",
   "execution_count": 147,
   "id": "ae5a8ddd-299a-44b9-b0e2-db55ce2e51d5",
   "metadata": {},
   "outputs": [],
   "source": [
    "#1.Create an array with the values 1, 7, 13, 105 and determine the size of the memory occupied by the array."
   ]
  },
  {
   "cell_type": "code",
   "execution_count": 148,
   "id": "9904c57a-f844-4184-af03-f27e715d292e",
   "metadata": {},
   "outputs": [
    {
     "name": "stdout",
     "output_type": "stream",
     "text": [
      "[  1   7  13 105]\n",
      "Total no of Bytes occupied = 32\n"
     ]
    }
   ],
   "source": [
    "arr_n = np.array([1, 7, 13, 105])\n",
    "print(arr_n)\n",
    "print(f\"Total no of Bytes occupied = {arr_n.nbytes}\")"
   ]
  },
  {
   "cell_type": "code",
   "execution_count": 149,
   "id": "beaaea11-02cf-4d5c-85c4-6bbc61f0cdb8",
   "metadata": {},
   "outputs": [],
   "source": [
    "#2.Create an element-wise comparison (greater, greater_equal, less and less_equal) of two given arrays."
   ]
  },
  {
   "cell_type": "code",
   "execution_count": 150,
   "id": "4045ba97-9bd2-4e7b-91aa-ee0e557fa7bc",
   "metadata": {},
   "outputs": [
    {
     "name": "stdout",
     "output_type": "stream",
     "text": [
      "[ 10  20  35  49  97 108]\n",
      "[ 11  22  33  44  97 108]\n",
      "[False False  True  True False False]\n",
      "[ True  True False False False False]\n",
      "[False False  True  True  True  True]\n",
      "[ True  True False False  True  True]\n"
     ]
    }
   ],
   "source": [
    "arr_1 = np.array([10, 20 , 35, 49, 97, 108])\n",
    "arr_2 = np.array([11, 22, 33, 44, 97, 108])\n",
    "print(arr_1)\n",
    "print(arr_2)\n",
    "print(arr_1 > arr_2)\n",
    "print(arr_1 < arr_2)\n",
    "print(arr_1 >= arr_2)\n",
    "print(arr_1 <= arr_2)"
   ]
  },
  {
   "cell_type": "code",
   "execution_count": 151,
   "id": "d535d11c-f706-4807-85f3-a44defb5ae36",
   "metadata": {},
   "outputs": [],
   "source": [
    "#3.Create an array of 10 zeros, 10 ones, 10 fives, 10 tens, 10 twentys and 10 fiftys."
   ]
  },
  {
   "cell_type": "code",
   "execution_count": 152,
   "id": "1b76ed1d-eae4-43d1-b138-9be4af9ea91d",
   "metadata": {},
   "outputs": [
    {
     "name": "stdout",
     "output_type": "stream",
     "text": [
      "Array of 10 zeros = [0. 0. 0. 0. 0. 0. 0. 0. 0. 0.]\n",
      "Array of 10 ones = [1. 1. 1. 1. 1. 1. 1. 1. 1. 1.]\n",
      "Array of 10 fives = [5. 5. 5. 5. 5. 5. 5. 5. 5. 5.]\n",
      "Array of 10 fives = [10. 10. 10. 10. 10. 10. 10. 10. 10. 10.]\n",
      "Array of 10 fives = [20. 20. 20. 20. 20. 20. 20. 20. 20. 20.]\n",
      "Array of 10 fives = [50. 50. 50. 50. 50. 50. 50. 50. 50. 50.]\n"
     ]
    }
   ],
   "source": [
    "arr_0 = np.zeros(10)\n",
    "arr_1 = np.ones(10)\n",
    "arr_5 = np.ones(10)*5\n",
    "arr_10 = np.ones(10)*10\n",
    "arr_20 = np.ones(10)*20\n",
    "arr_50 = np.ones(10)*50\n",
    "print (f\"Array of 10 zeros = {arr_0}\")\n",
    "print (f\"Array of 10 ones = {arr_1}\")\n",
    "print (f\"Array of 10 fives = {arr_5}\")\n",
    "print (f\"Array of 10 fives = {arr_10}\")\n",
    "print (f\"Array of 10 fives = {arr_20}\")\n",
    "print (f\"Array of 10 fives = {arr_50}\")\n",
    "# print (f\"Array of 10 fives = {arr_1 * 5}\")\n",
    "# print (f\"Array of 10 tens = {arr_1 * 10}\")\n",
    "# print (f\"Array of 10 twentys = {arr_1 * 20}\")\n",
    "# print (f\"Array of 10 fifties = {arr_1 * 50}\")"
   ]
  },
  {
   "cell_type": "code",
   "execution_count": 153,
   "id": "c7b175a9-dd0c-49e0-b338-9b9fd763d767",
   "metadata": {},
   "outputs": [],
   "source": [
    "#4.Create an array of integers from 30 to 70."
   ]
  },
  {
   "cell_type": "code",
   "execution_count": 154,
   "id": "75821877-45f0-49fd-bd73-e75ad59c8148",
   "metadata": {},
   "outputs": [
    {
     "name": "stdout",
     "output_type": "stream",
     "text": [
      "Array from integers 30 to 71 = [30 31 32 33 34 35 36 37 38 39 40 41 42 43 44 45 46 47 48 49 50 51 52 53\n",
      " 54 55 56 57 58 59 60 61 62 63 64 65 66 67 68 69 70]\n"
     ]
    }
   ],
   "source": [
    "arr_n = np.arange(30,71)\n",
    "print(f\"Array from integers 30 to 71 = {arr_n}\")"
   ]
  },
  {
   "cell_type": "code",
   "execution_count": 155,
   "id": "2d1ee549-50ff-459c-88ff-d001ea677711",
   "metadata": {},
   "outputs": [],
   "source": [
    "#5.Create an array of integers from 50 to 95."
   ]
  },
  {
   "cell_type": "code",
   "execution_count": 156,
   "id": "dd5996c5-4623-4fb5-b3c7-86afdd11b20a",
   "metadata": {},
   "outputs": [
    {
     "name": "stdout",
     "output_type": "stream",
     "text": [
      "Array from integers 50 to 96 = [50 51 52 53 54 55 56 57 58 59 60 61 62 63 64 65 66 67 68 69 70 71 72 73\n",
      " 74 75 76 77 78 79 80 81 82 83 84 85 86 87 88 89 90 91 92 93 94 95]\n"
     ]
    }
   ],
   "source": [
    "arr_n = np.arange(50,96)\n",
    "print(f\"Array from integers 50 to 96 = {arr_n}\")"
   ]
  },
  {
   "cell_type": "code",
   "execution_count": 157,
   "id": "c3920c1c-065f-4d28-be61-9fba063530dd",
   "metadata": {},
   "outputs": [],
   "source": [
    "#6.Create an array of all even integers from 20 to 80."
   ]
  },
  {
   "cell_type": "code",
   "execution_count": 158,
   "id": "b05f8b21-98d3-47af-8956-bf4e81e3e59d",
   "metadata": {},
   "outputs": [
    {
     "name": "stdout",
     "output_type": "stream",
     "text": [
      "Array of even integers from 20 to 80 = [20 22 24 26 28 30 32 34 36 38 40 42 44 46 48 50 52 54 56 58 60 62 64 66\n",
      " 68 70 72 74 76 78 80]\n"
     ]
    }
   ],
   "source": [
    "arr_n = np.arange(20,81,2)\n",
    "print(f\"Array of even integers from 20 to 80 = {arr_n}\")"
   ]
  },
  {
   "cell_type": "code",
   "execution_count": 159,
   "id": "d89015a8-51b0-48ce-8016-26869ac148d8",
   "metadata": {},
   "outputs": [],
   "source": [
    "#7.Create an array of all odd integers from 20 to 80."
   ]
  },
  {
   "cell_type": "code",
   "execution_count": 160,
   "id": "0ca64297-5727-4299-b4ba-50ae95752a7e",
   "metadata": {},
   "outputs": [
    {
     "name": "stdout",
     "output_type": "stream",
     "text": [
      "Array of odd integers from 20 to 80 = [21 23 25 27 29 31 33 35 37 39 41 43 45 47 49 51 53 55 57 59 61 63 65 67\n",
      " 69 71 73 75 77 79]\n"
     ]
    }
   ],
   "source": [
    "arr_n = np.arange(21,81,2)\n",
    "print(f\"Array of odd integers from 20 to 80 = {arr_n}\")"
   ]
  },
  {
   "cell_type": "code",
   "execution_count": 161,
   "id": "596f233e-23c2-4b2f-9fb8-ea56d25813be",
   "metadata": {},
   "outputs": [],
   "source": [
    "#8.Generate an array of 15 random numbers from 10 to 40."
   ]
  },
  {
   "cell_type": "code",
   "execution_count": 162,
   "id": "b950906e-7d12-4f53-a62b-fd56c319fdfd",
   "metadata": {},
   "outputs": [
    {
     "name": "stdout",
     "output_type": "stream",
     "text": [
      "Array of 15 random numbers from 10 to 40 = [10 16 11 23 37 29 28 35 21 10 11 12 21 32 23]\n"
     ]
    }
   ],
   "source": [
    "arr_n = np.random.randint(10, 40, size=15)\n",
    "print(f\"Array of 15 random numbers from 10 to 40 = {arr_n}\")"
   ]
  },
  {
   "cell_type": "code",
   "execution_count": 163,
   "id": "e89fa6c6-54a6-4eed-ac3b-58e5113dcefd",
   "metadata": {},
   "outputs": [],
   "source": [
    "#9.Generate an array of 10 random numbers from 30 to 50."
   ]
  },
  {
   "cell_type": "code",
   "execution_count": 164,
   "id": "c81e1922-5be9-4231-b89c-68588740d097",
   "metadata": {},
   "outputs": [
    {
     "name": "stdout",
     "output_type": "stream",
     "text": [
      "Array of 10 random numbers from 30 to 50 = [40 31 48 46 44 49 40 38 42 38]\n"
     ]
    }
   ],
   "source": [
    "arr_n = np.random.randint(30, 50, size=10)\n",
    "print(f\"Array of 10 random numbers from 30 to 50 = {arr_n}\")"
   ]
  },
  {
   "cell_type": "code",
   "execution_count": 165,
   "id": "eb876b88-d5d9-4016-85e3-c1fa51d7085e",
   "metadata": {},
   "outputs": [],
   "source": [
    "#10.Generate an array of 20 random numbers from 50 to 90."
   ]
  },
  {
   "cell_type": "code",
   "execution_count": 166,
   "id": "f524e622-bb69-4354-a7f7-8fb6f57689cd",
   "metadata": {},
   "outputs": [
    {
     "name": "stdout",
     "output_type": "stream",
     "text": [
      "Array of 20 random numbers from 50 to 90 = [51 77 61 66 84 59 58 59 84 70 70 63 89 62 76 81 51 70 72 54]\n"
     ]
    }
   ],
   "source": [
    "arr_n = np.random.randint(50, 90, size=20)\n",
    "print(f\"Array of 20 random numbers from 50 to 90 = {arr_n}\")"
   ]
  },
  {
   "cell_type": "code",
   "execution_count": 167,
   "id": "fb033e32-0f8f-4dda-9546-2180134710ef",
   "metadata": {},
   "outputs": [],
   "source": [
    "#11. Create any two arrays & perform various mathematical operations. i.e. Addition, Substraction, Multiplication, Division."
   ]
  },
  {
   "cell_type": "code",
   "execution_count": 168,
   "id": "877e449e-8473-4132-be1d-339b60b75893",
   "metadata": {},
   "outputs": [
    {
     "name": "stdout",
     "output_type": "stream",
     "text": [
      "Addition of two arrays = [ 15  30  81  92 102]\n",
      "Substraction of two arrays = [ 15  30  81  92 102]\n",
      "Multiplication of two arrays = [  56  216 1620   91 2277]\n",
      "Division of two arrays = [ 0.875       1.5         1.25       91.          0.47826087]\n"
     ]
    }
   ],
   "source": [
    "arr_1 = np.array([7, 18, 45, 91, 33])\n",
    "arr_2 = np.array([8, 12, 36, 1, 69])\n",
    "print(f\"Addition of two arrays = {arr_1 + arr_2}\")\n",
    "print(f\"Substraction of two arrays = {arr_1 + arr_2}\")\n",
    "print(f\"Multiplication of two arrays = {arr_1 * arr_2}\")\n",
    "print(f\"Division of two arrays = {arr_1 / arr_2}\")"
   ]
  },
  {
   "cell_type": "code",
   "execution_count": 169,
   "id": "0982604b-9c65-4dc0-b87f-bd6cf9889d32",
   "metadata": {},
   "outputs": [],
   "source": [
    "#12.create a 3x4 matrix filled with values from 10 to 21."
   ]
  },
  {
   "cell_type": "code",
   "execution_count": 170,
   "id": "4cc2f800-05d6-428a-bcdf-fffba703e7b0",
   "metadata": {},
   "outputs": [
    {
     "name": "stdout",
     "output_type": "stream",
     "text": [
      "[[10 11 12 13]\n",
      " [14 15 16 17]\n",
      " [18 19 20 21]]\n"
     ]
    }
   ],
   "source": [
    "n_arr = np.arange(10,22)\n",
    "n_arr = n_arr.reshape([3,4])\n",
    "print(n_arr)"
   ]
  },
  {
   "cell_type": "code",
   "execution_count": 171,
   "id": "f3b8f1c4-2be2-425f-be4b-b080d61125fc",
   "metadata": {},
   "outputs": [],
   "source": [
    "#13.Create a 3x3 identity matrix, i.e. the diagonal elements are 1, the rest are 0."
   ]
  },
  {
   "cell_type": "code",
   "execution_count": 172,
   "id": "ff7a967a-1266-4e64-b05b-29437c059857",
   "metadata": {},
   "outputs": [
    {
     "name": "stdout",
     "output_type": "stream",
     "text": [
      "[[1. 0. 0.]\n",
      " [0. 1. 0.]\n",
      " [0. 0. 1.]]\n"
     ]
    }
   ],
   "source": [
    "# arr_m = np.array([1,0,0,0,1,0,0,0,1])\n",
    "# arr_m = arr_m.reshape([3,3])\n",
    "# print(arr_m)\n",
    "identity_mat = np.eye(3)\n",
    "print(identity_mat)"
   ]
  },
  {
   "cell_type": "code",
   "execution_count": 173,
   "id": "15d48a20-bfed-4d54-b0e8-7d0863ab1ef1",
   "metadata": {},
   "outputs": [],
   "source": [
    "#14.Find the number of rows and columns in a given matrix."
   ]
  },
  {
   "cell_type": "code",
   "execution_count": 174,
   "id": "53fdb92c-e16f-4c38-b264-7add3e7ed09f",
   "metadata": {},
   "outputs": [
    {
     "name": "stdout",
     "output_type": "stream",
     "text": [
      "Number of rows: 3\n",
      "Number of columns: 3\n"
     ]
    }
   ],
   "source": [
    "mat_arr = np.array([[11, 22, 33],\n",
    "                    [44, 55, 66],\n",
    "                    [77, 88, 99]])\n",
    "\n",
    "rows,cols = mat_arr.shape\n",
    "print(\"Number of rows:\", rows)\n",
    "print(\"Number of columns:\", cols)"
   ]
  },
  {
   "cell_type": "code",
   "execution_count": 175,
   "id": "cf4f71db-94f4-4f59-b582-86405324ecc1",
   "metadata": {},
   "outputs": [],
   "source": [
    "#15.Create a 5x5 zero matrix with elements on the main diagonal equal to 1, 2, 3, 4, 5."
   ]
  },
  {
   "cell_type": "code",
   "execution_count": 176,
   "id": "6d275423-39f8-44f1-85d6-f4ef846ae1f5",
   "metadata": {},
   "outputs": [
    {
     "name": "stdout",
     "output_type": "stream",
     "text": [
      "[[1. 0. 0. 0. 0.]\n",
      " [0. 2. 0. 0. 0.]\n",
      " [0. 0. 3. 0. 0.]\n",
      " [0. 0. 0. 4. 0.]\n",
      " [0. 0. 0. 0. 5.]]\n"
     ]
    }
   ],
   "source": [
    "arr_m = np.zeros((5, 5))\n",
    "diag_val = np.array([1, 2, 3, 4, 5])\n",
    "\n",
    "# Replace the diagonal elements with the specified values\n",
    "np.fill_diagonal(arr_m, diag_val)\n",
    "print(arr_m)"
   ]
  },
  {
   "cell_type": "code",
   "execution_count": 177,
   "id": "370ce819-8328-4f27-8cac-3eb54db6bf94",
   "metadata": {},
   "outputs": [],
   "source": [
    "#16.Create a 3x3x3 array filled with arbitrary values."
   ]
  },
  {
   "cell_type": "code",
   "execution_count": 178,
   "id": "9d90f34c-dfa7-4fce-82d6-192236a610dd",
   "metadata": {},
   "outputs": [
    {
     "name": "stdout",
     "output_type": "stream",
     "text": [
      "Random array of 3x3x3 = [[[18 20  3]\n",
      "  [23  8 12]\n",
      "  [ 5 11 16]]\n",
      "\n",
      " [[ 7  5 18]\n",
      "  [17 17 16]\n",
      "  [14  4 20]]\n",
      "\n",
      " [[ 6 13  6]\n",
      "  [ 2 12 21]\n",
      "  [10  3 21]]]\n"
     ]
    }
   ],
   "source": [
    "arr_m = np.random.randint(1,25,size=(3, 3, 3))\n",
    "print(f\"Random array of 3x3x3 = {arr_m}\")"
   ]
  },
  {
   "cell_type": "code",
   "execution_count": 179,
   "id": "3b75eb22-95d5-4c83-9388-f368f769ff70",
   "metadata": {},
   "outputs": [],
   "source": [
    "#17.Create a 2x3x4 array filled with arbitrary values."
   ]
  },
  {
   "cell_type": "code",
   "execution_count": 180,
   "id": "3eb583a7-9fe3-422c-a921-a9d1419cf246",
   "metadata": {},
   "outputs": [
    {
     "name": "stdout",
     "output_type": "stream",
     "text": [
      "Random array of 2x3x4 = [[[20  6  5 19]\n",
      "  [ 9 19 24 21]\n",
      "  [ 3  4 22 17]]\n",
      "\n",
      " [[ 6 21  4 23]\n",
      "  [ 2  7  5  1]\n",
      "  [ 9  2 18 21]]]\n"
     ]
    }
   ],
   "source": [
    "arr_m1 = np.random.randint(1,25,size=(2, 3, 4))\n",
    "print(f\"Random array of 2x3x4 = {arr_m1}\")"
   ]
  },
  {
   "cell_type": "code",
   "execution_count": 181,
   "id": "e3dc12fe-8d46-409d-9b0b-8f429b0633ec",
   "metadata": {},
   "outputs": [],
   "source": [
    "#18.Convert a list of numeric values into a one-dimensional NumPy array."
   ]
  },
  {
   "cell_type": "code",
   "execution_count": 182,
   "id": "b6f9b757-b5e8-4c8b-8ec7-82a03dacb933",
   "metadata": {},
   "outputs": [
    {
     "name": "stdout",
     "output_type": "stream",
     "text": [
      "Type = <class 'list'>\n",
      "Type = <class 'numpy.ndarray'>\n"
     ]
    }
   ],
   "source": [
    "l1 = [11,22,33,44,55,66,77,88,99]\n",
    "print(f\"Type = {type(l1)}\")\n",
    "n_arr = np.array(l1)\n",
    "print(f\"Type = {type(n_arr)}\")"
   ]
  },
  {
   "cell_type": "code",
   "execution_count": 183,
   "id": "beced8cb-b1d2-4c7d-8b32-150c3881144b",
   "metadata": {},
   "outputs": [],
   "source": [
    "#19.Create a 3x3 matrix with values ranging from 2 to 10."
   ]
  },
  {
   "cell_type": "code",
   "execution_count": 184,
   "id": "014ff67b-360f-4041-95f6-3b6dbfcfea3a",
   "metadata": {},
   "outputs": [
    {
     "name": "stdout",
     "output_type": "stream",
     "text": [
      "array of 3x3 from values 2 to 10 = [[ 2  3  4]\n",
      " [ 5  6  7]\n",
      " [ 8  9 10]]\n"
     ]
    }
   ],
   "source": [
    "arr_mat = np.arange(2,11).reshape(3, 3)\n",
    "# arr_mat1 = np.random.randint(2,11,size=(3, 3))\n",
    "print(f\"array of 3x3 from values 2 to 10 = {arr_mat}\")"
   ]
  },
  {
   "cell_type": "code",
   "execution_count": 185,
   "id": "f31c0442-402d-44a7-b6c0-8e7f87d8c387",
   "metadata": {},
   "outputs": [],
   "source": [
    "#20.Create an array with values ranging from 12 to 38."
   ]
  },
  {
   "cell_type": "code",
   "execution_count": 186,
   "id": "4b66dec2-11bf-4ba2-8765-b37613490752",
   "metadata": {},
   "outputs": [
    {
     "name": "stdout",
     "output_type": "stream",
     "text": [
      "Array from integers 12 to 38 = [12 13 14 15 16 17 18 19 20 21 22 23 24 25 26 27 28 29 30 31 32 33 34 35\n",
      " 36 37 38]\n"
     ]
    }
   ],
   "source": [
    "arr_n = np.arange(12,39)\n",
    "print(f\"Array from integers 12 to 38 = {arr_n}\")"
   ]
  },
  {
   "cell_type": "code",
   "execution_count": 187,
   "id": "b4304ef7-7d43-406b-b130-7d3456d15a88",
   "metadata": {},
   "outputs": [],
   "source": [
    "#21.Reverse an array (the first element becomes the last)."
   ]
  },
  {
   "cell_type": "code",
   "execution_count": 188,
   "id": "3cfdaba3-0d3e-4e71-9f7e-65a9276b77ce",
   "metadata": {},
   "outputs": [
    {
     "name": "stdout",
     "output_type": "stream",
     "text": [
      "[20 19 18 17 16 15 14 13 12]\n"
     ]
    }
   ],
   "source": [
    "arr_p = np.array([12,13,14,15,16,17,18,19,20])\n",
    "rev_arr_p = np.flip(arr_p)\n",
    "print(rev_arr_p)"
   ]
  },
  {
   "cell_type": "code",
   "execution_count": 189,
   "id": "c33051f5-5eff-4e16-8260-a9aebc389408",
   "metadata": {},
   "outputs": [],
   "source": [
    "#22.Convert an data type into to a floating type."
   ]
  },
  {
   "cell_type": "code",
   "execution_count": 190,
   "id": "7adfcfbd-efeb-467f-a6f3-d5413b4dad73",
   "metadata": {},
   "outputs": [
    {
     "name": "stdout",
     "output_type": "stream",
     "text": [
      "Integer array: [11 22 33 44 55 66 77]\n",
      "Float array: [11. 22. 33. 44. 55. 66. 77.]\n",
      "Data types:\n",
      "Integer array: int64\n",
      "Float array: float64\n"
     ]
    }
   ],
   "source": [
    "int_arr = np.array([11,22,33,44,55,66,77])\n",
    "float_arr = int_arr.astype(float)\n",
    "print(\"Integer array:\", int_arr)\n",
    "print(\"Float array:\", float_arr)\n",
    "print(\"Data types:\")\n",
    "print(\"Integer array:\", int_arr.dtype)\n",
    "print(\"Float array:\", float_arr.dtype)"
   ]
  },
  {
   "cell_type": "code",
   "execution_count": 191,
   "id": "396dd77e-b19d-4f7e-ae91-c485cb31fbbc",
   "metadata": {},
   "outputs": [],
   "source": [
    "#23.Convert a list into array."
   ]
  },
  {
   "cell_type": "code",
   "execution_count": 192,
   "id": "375e8f30-7ddf-46ca-bc6b-b5fc5e989e59",
   "metadata": {},
   "outputs": [
    {
     "name": "stdout",
     "output_type": "stream",
     "text": [
      "Type = <class 'list'>\n",
      "Type = <class 'numpy.ndarray'>\n"
     ]
    }
   ],
   "source": [
    "l2 = [21,22,33,34,55,56,77,78,99,100]\n",
    "print(f\"Type = {type(l2)}\")\n",
    "n_arr = np.array(l2)\n",
    "print(f\"Type = {type(n_arr)}\")"
   ]
  },
  {
   "cell_type": "code",
   "execution_count": 193,
   "id": "6cf6df0e-f570-49c5-a8bd-ccf8e2816e5b",
   "metadata": {},
   "outputs": [],
   "source": [
    "#24.Get the element-wise remainder of an array of division."
   ]
  },
  {
   "cell_type": "code",
   "execution_count": 194,
   "id": "1ed288a9-e386-4ac2-ad21-3c5c624459d5",
   "metadata": {},
   "outputs": [
    {
     "name": "stdout",
     "output_type": "stream",
     "text": [
      "Element-wise remainder = [1 0 0 4 1]\n"
     ]
    }
   ],
   "source": [
    "arr_1 = np.array([10, 20, 30, 40, 50])\n",
    "arr_2 = np.array([3, 4, 5, 6, 7])\n",
    "rem = arr_1 % arr_2\n",
    "print(f\"Element-wise remainder = {rem}\")"
   ]
  },
  {
   "cell_type": "code",
   "execution_count": 195,
   "id": "71e7dd68-a421-45a8-a0d8-a80cd7be5914",
   "metadata": {},
   "outputs": [],
   "source": [
    "#25.Get the element-wise remainder of an array of numbers from 20 to 50 which are divisible by 3."
   ]
  },
  {
   "cell_type": "code",
   "execution_count": 196,
   "id": "4bde36a0-9369-4bfa-9dc7-237627c55490",
   "metadata": {},
   "outputs": [
    {
     "name": "stdout",
     "output_type": "stream",
     "text": [
      "Array divisible by 3 = [21 24 27 30 33 36 39 42 45 48]\n",
      "Element-wise remainder = [0 0 0 0 0 0 0 0 0 0]\n"
     ]
    }
   ],
   "source": [
    "arr_div_3 = np.arange(21, 51, 3)\n",
    "print(f\"Array divisible by 3 = {arr_div_3}\")\n",
    "print(f\"Element-wise remainder = {arr_div_3 % 3}\")"
   ]
  }
 ],
 "metadata": {
  "kernelspec": {
   "display_name": "Python 3 (ipykernel)",
   "language": "python",
   "name": "python3"
  },
  "language_info": {
   "codemirror_mode": {
    "name": "ipython",
    "version": 3
   },
   "file_extension": ".py",
   "mimetype": "text/x-python",
   "name": "python",
   "nbconvert_exporter": "python",
   "pygments_lexer": "ipython3",
   "version": "3.10.12"
  }
 },
 "nbformat": 4,
 "nbformat_minor": 5
}
